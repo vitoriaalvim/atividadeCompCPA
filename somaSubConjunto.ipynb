{
  "cells": [
    {
      "cell_type": "code",
      "execution_count": null,
      "metadata": {
        "colab": {
          "base_uri": "https://localhost:8080/"
        },
        "id": "39OxWcMO9OVg",
        "outputId": "1ba9338e-89a6-4894-9e7b-8b8cfebb2ee5"
      },
      "outputs": [
        {
          "output_type": "stream",
          "name": "stdout",
          "text": [
            "Looking in indexes: https://pypi.org/simple, https://us-python.pkg.dev/colab-wheels/public/simple/\n",
            "Collecting subsetsum\n",
            "  Downloading subsetsum-0.0.2-cp37-cp37m-manylinux_2_17_x86_64.manylinux2014_x86_64.whl (120 kB)\n",
            "\u001b[K     |████████████████████████████████| 120 kB 30.3 MB/s \n",
            "\u001b[?25hInstalling collected packages: subsetsum\n",
            "Successfully installed subsetsum-0.0.2\n"
          ]
        }
      ],
      "source": [
        "!pip install subsetsum\n",
        "\n",
        "import subsetsum\n"
      ]
    },
    {
      "cell_type": "code",
      "source": [
        "import random\n",
        "import time\n",
        "import numpy as np\n",
        "import matplotlib.pyplot as plt"
      ],
      "metadata": {
        "id": "WhzSDRI1ZpuU"
      },
      "execution_count": null,
      "outputs": []
    },
    {
      "cell_type": "code",
      "execution_count": null,
      "metadata": {
        "id": "sUW8eYPxIcNT"
      },
      "outputs": [],
      "source": [
        "def gerarVetor(n_elementos):\n",
        "  A=np.random.randint(-40, 40, (n_elementos))\n",
        "  return A"
      ]
    },
    {
      "cell_type": "code",
      "execution_count": null,
      "metadata": {
        "id": "401rFEfj9Sta"
      },
      "outputs": [],
      "source": [
        "def hasSolution(vetor):\n",
        "  target = 0\n",
        "  ini= time.time()\n",
        "  has_solution = subsetsum.has_solution(vetor, target)\n",
        "  fim = time.time()\n",
        "  # print(f\"O conjunto: {vetor} onde a soma é: {target} tem solução? {has_solution}\")\n",
        "  tempo_exec=fim-ini\n",
        "  return tempo_exec\n"
      ]
    },
    {
      "cell_type": "code",
      "execution_count": null,
      "metadata": {
        "id": "GV2IQs4hJWBY"
      },
      "outputs": [],
      "source": [
        "def sub(vetor):\n",
        "    target = 0\n",
        "    ini= time.time()\n",
        "    for solution in subsetsum.solutions(vetor, target):\n",
        "        subset = [vetor[i] for i in solution]\n",
        "        sum_value=sum(subset)\n",
        "        # print(f\"{subset} se somados, reulta em: {sum_value}\")\n",
        "    fim = time.time()\n",
        "    tempo_exec=fim-ini\n",
        "    return tempo_exec\n"
      ]
    },
    {
      "cell_type": "code",
      "source": [
        "temp = []\n",
        "aux = []\n",
        "\n",
        "numEntradas = []\n",
        "\n",
        "for i in range (0, 30):\n",
        "  numEntradas.append(i)\n",
        "  aux.append(sub(gerarVetor(i)))\n",
        "\n",
        "\n",
        "plt.plot(numEntradas,aux, 'r', label='subsetsum')\n",
        "plt.xlabel(\"qtde entradas\")\n",
        "plt.ylabel(\"tempo\")\n",
        "plt.legend()\n",
        "plt.show() \n",
        "\n",
        "temp = []\n",
        "aux = []\n",
        "\n",
        "numEntradas = []\n",
        "\n",
        "for i in range (0, 30):\n",
        "  numEntradas.append(i)\n",
        "  aux.append(hasSolution(gerarVetor(i)))\n",
        "\n",
        "print()\n",
        "print('TEMPO PARA DESCOBRIR SE TEM SOLUÇÃO OU NÃO')\n",
        "\n",
        "plt.plot(numEntradas,aux, 'b', label='has_solution')\n",
        "plt.xlabel(\"qtde entradas\")\n",
        "plt.ylabel(\"tempo\")\n",
        "plt.legend()\n",
        "plt.show() \n",
        "\n",
        "\n",
        "\n",
        "\n"
      ],
      "metadata": {
        "colab": {
          "base_uri": "https://localhost:8080/",
          "height": 587
        },
        "id": "UxPNYcBFbl0h",
        "outputId": "35019188-eec1-4ddd-a7e0-330d481578cf"
      },
      "execution_count": null,
      "outputs": [
        {
          "output_type": "display_data",
          "data": {
            "text/plain": [
              "<Figure size 432x288 with 1 Axes>"
            ],
            "image/png": "[encoded data removed]"
          },
          "metadata": {
            "needs_background": "light"
          }
        },
        {
          "output_type": "stream",
          "name": "stdout",
          "text": [
            "\n",
            "TEMPO PARA DESCOBRIR SE TEM SOLUÇÃO OU NÃO\n"
          ]
        },
        {
          "output_type": "display_data",
          "data": {
            "text/plain": [
              "<Figure size 432x288 with 1 Axes>"
            ],
            "image/png": "[encoded data removed]"
          },
          "metadata": {
            "needs_background": "light"
          }
        }
      ]
    }
  ],
  "metadata": {
    "accelerator": "GPU",
    "colab": {
      "name": "somaSubConjunto_Vitoria_Alvim.ipynb",
      "provenance": [],
      "collapsed_sections": []
    },
    "gpuClass": "standard",
    "kernelspec": {
      "display_name": "Python 3",
      "name": "python3"
    },
    "language_info": {
      "name": "python"
    }
  },
  "nbformat": 4,
  "nbformat_minor": 0
}